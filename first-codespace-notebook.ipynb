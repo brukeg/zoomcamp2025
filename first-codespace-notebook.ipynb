{
 "cells": [
  {
   "cell_type": "code",
   "execution_count": 4,
   "id": "77776380-7fdc-4f3e-98d9-830be2a0c494",
   "metadata": {},
   "outputs": [
    {
     "name": "stdout",
     "output_type": "stream",
     "text": [
      "Hello world in codespaces\n"
     ]
    }
   ],
   "source": [
    "print('Hello world in codespaces')"
   ]
  },
  {
   "cell_type": "code",
   "execution_count": null,
   "id": "d5eabb4d-d39e-4dca-bdfe-be572a415c40",
   "metadata": {},
   "outputs": [],
   "source": []
  }
 ],
 "metadata": {
  "kernelspec": {
   "display_name": "Python 3 (ipykernel)",
   "language": "python",
   "name": "python3"
  },
  "language_info": {
   "codemirror_mode": {
    "name": "ipython",
    "version": 3
   },
   "file_extension": ".py",
   "mimetype": "text/x-python",
   "name": "python",
   "nbconvert_exporter": "python",
   "pygments_lexer": "ipython3",
   "version": "3.12.1"
  }
 },
 "nbformat": 4,
 "nbformat_minor": 5
}
